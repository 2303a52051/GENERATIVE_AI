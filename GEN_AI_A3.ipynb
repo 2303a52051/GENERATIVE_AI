{
  "nbformat": 4,
  "nbformat_minor": 0,
  "metadata": {
    "colab": {
      "provenance": [],
      "authorship_tag": "ABX9TyPXVkUh3nRn07lR+eQcRtcv",
      "include_colab_link": true
    },
    "kernelspec": {
      "name": "python3",
      "display_name": "Python 3"
    },
    "language_info": {
      "name": "python"
    }
  },
  "cells": [
    {
      "cell_type": "markdown",
      "metadata": {
        "id": "view-in-github",
        "colab_type": "text"
      },
      "source": [
        "<a href=\"https://colab.research.google.com/github/2303a52051/GENERATIVE_AI/blob/main/GEN_AI_A3.ipynb\" target=\"_parent\"><img src=\"https://colab.research.google.com/assets/colab-badge.svg\" alt=\"Open In Colab\"/></a>"
      ]
    },
    {
      "cell_type": "markdown",
      "source": [
        "Find the minimum value of 𝑓 ( 𝑥 )\n",
        "5 𝑥^ 4 + 3 𝑥^ 2 + 10 :"
      ],
      "metadata": {
        "id": "SZifB2_zaZ2I"
      }
    },
    {
      "cell_type": "code",
      "source": [
        "def gradient_descent(f_prime, x0, learning_rate=0.01, tolerance=1e-6, max_iter=1000):\n",
        "    x = x0\n",
        "    for i in range(max_iter):\n",
        "        grad = f_prime(x)\n",
        "        new_x = x - learning_rate * grad\n",
        "        if abs(new_x - x) < tolerance:\n",
        "            break\n",
        "        x = new_x\n",
        "    return x\n",
        "\n",
        "# Derivative of f(x) = 5x^4 + 3x^2 + 10\n",
        "def f_prime(x):\n",
        "    return 20 * x**3 + 6 * x\n",
        "\n",
        "# Initial guess\n",
        "x0 = 0.0\n",
        "min_x = gradient_descent(f_prime, x0)\n",
        "print(f\"Minimum value of x for f(x): {min_x}\")"
      ],
      "metadata": {
        "colab": {
          "base_uri": "https://localhost:8080/"
        },
        "id": "7Gt4O4-DafJF",
        "outputId": "d4edd332-8e63-4972-c482-e5d1f5a5c18c"
      },
      "execution_count": 1,
      "outputs": [
        {
          "output_type": "stream",
          "name": "stdout",
          "text": [
            "Minimum value of x for f(x): 0.0\n"
          ]
        }
      ]
    },
    {
      "cell_type": "markdown",
      "source": [
        "Find the minimum value of 𝑔 ( 𝑥 , 𝑦 )\n",
        "3 𝑥^ 2 + 5 𝑒^ − 𝑦 + 10 :"
      ],
      "metadata": {
        "id": "T69zjMYyapjA"
      }
    },
    {
      "cell_type": "code",
      "source": [
        "def gradient_descent_multi(f_prime_x, f_prime_y, x0, y0, learning_rate=0.01, tolerance=1e-6, max_iter=1000):\n",
        "    x, y = x0, y0\n",
        "    for i in range(max_iter):\n",
        "        grad_x = f_prime_x(x)\n",
        "        grad_y = f_prime_y(y)\n",
        "        new_x = x - learning_rate * grad_x\n",
        "        new_y = y - learning_rate * grad_y\n",
        "        if abs(new_x - x) < tolerance and abs(new_y - y) < tolerance:\n",
        "            break\n",
        "        x, y = new_x, new_y\n",
        "    return x, y\n",
        "\n",
        "# Derivatives of g(x, y) = 3x^2 + 5e^(-y) + 10\n",
        "def f_prime_x(x):\n",
        "    return 6 * x\n",
        "\n",
        "def f_prime_y(y):\n",
        "    return -5 * (2.71828 ** (-y))\n",
        "\n",
        "# Initial guess\n",
        "x0, y0 = 0.0, 0.0\n",
        "min_x, min_y = gradient_descent_multi(f_prime_x, f_prime_y, x0, y0)\n",
        "print(f\"Minimum value of x and y for g(x, y): {min_x}, {min_y}\")\n"
      ],
      "metadata": {
        "colab": {
          "base_uri": "https://localhost:8080/"
        },
        "id": "rX9pqlDgax_M",
        "outputId": "3443dcd6-bf2f-4d7d-efe3-793f647193aa"
      },
      "execution_count": 2,
      "outputs": [
        {
          "output_type": "stream",
          "name": "stdout",
          "text": [
            "Minimum value of x and y for g(x, y): 0.0, 3.933762227862872\n"
          ]
        }
      ]
    },
    {
      "cell_type": "markdown",
      "source": [
        "Find the minimum value of the sigmoid function 𝑧 ( 𝑥 )\n",
        "1/ 1 + 𝑒^ − 𝑥 :"
      ],
      "metadata": {
        "id": "LE_bFwAOa2VJ"
      }
    },
    {
      "cell_type": "code",
      "source": [
        "def sigmoid_derivative(x):\n",
        "    sig = 1 / (1 + 2.71828**(-x))\n",
        "    return sig * (1 - sig)\n",
        "\n",
        "min_x_sigmoid = gradient_descent(sigmoid_derivative, 0.0)\n",
        "print(f\"Minimum value of x for sigmoid function: {min_x_sigmoid}\")"
      ],
      "metadata": {
        "colab": {
          "base_uri": "https://localhost:8080/"
        },
        "id": "zAL2lS1sa3BR",
        "outputId": "1dd98b27-5b41-49f9-ab7a-afc117e6cb32"
      },
      "execution_count": 3,
      "outputs": [
        {
          "output_type": "stream",
          "name": "stdout",
          "text": [
            "Minimum value of x for sigmoid function: -1.8618359316575634\n"
          ]
        }
      ]
    },
    {
      "cell_type": "markdown",
      "source": [
        "Find the optimal values of 𝑀 M and 𝐶 C for minimizing the square error 𝑆 𝐸\n",
        "( 𝐸 𝑥 𝑝 𝑒 𝑐 𝑡 𝑒 𝑑 𝑂 𝑢 𝑡 𝑝 𝑢 𝑡 − 𝑃 𝑟 𝑒 𝑑 𝑖 𝑐 𝑡 𝑒 𝑑 𝑂 𝑢 𝑡 𝑝 𝑢 𝑡 ) ^2 :"
      ],
      "metadata": {
        "id": "yVEi2Zgoa9AQ"
      }
    },
    {
      "cell_type": "code",
      "source": [
        "def gradient_descent_linear(f_prime_m, f_prime_c, m0, c0, learning_rate=0.01, tolerance=1e-6, max_iter=1000):\n",
        "    m, c = m0, c0\n",
        "    for i in range(max_iter):\n",
        "        grad_m = f_prime_m(m, c)\n",
        "        grad_c = f_prime_c(m, c)\n",
        "        new_m = m - learning_rate * grad_m\n",
        "        new_c = c - learning_rate * grad_c\n",
        "        if abs(new_m - m) < tolerance and abs(new_c - c) < tolerance:\n",
        "            break\n",
        "        m, c = new_m, new_c\n",
        "    return m, c\n",
        "\n",
        "# Derivatives of SE = (ExpectedOutput - (Mx + C))^2\n",
        "# Assuming simple linear regression y = Mx + C, and we have some data points (x, y)\n",
        "\n",
        "def f_prime_m(m, c):\n",
        "    # Example with a single data point (x, y) = (1, 2)\n",
        "    x, y = 1, 2\n",
        "    return -2 * x * (y - (m * x + c))\n",
        "\n",
        "def f_prime_c(m, c):\n",
        "    x, y = 1, 2\n",
        "    return -2 * (y - (m * x + c))\n",
        "\n",
        "# Initial guess\n",
        "m0, c0 = 0.0, 0.0\n",
        "min_m, min_c = gradient_descent_linear(f_prime_m, f_prime_c, m0, c0)\n",
        "print(f\"Optimal values of M and C: {min_m}, {min_c}\")"
      ],
      "metadata": {
        "colab": {
          "base_uri": "https://localhost:8080/"
        },
        "id": "fyhN_IKta9kw",
        "outputId": "f25a4d7c-56b8-4544-ea9d-1105682b4a5f"
      },
      "execution_count": 4,
      "outputs": [
        {
          "output_type": "stream",
          "name": "stdout",
          "text": [
            "Optimal values of M and C: 0.9999754234685202, 0.9999754234685202\n"
          ]
        }
      ]
    }
  ]
}